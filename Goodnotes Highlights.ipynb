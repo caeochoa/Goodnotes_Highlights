{
 "cells": [
  {
   "cell_type": "markdown",
   "metadata": {},
   "source": [
    "# Exporting annotations from PDF"
   ]
  },
  {
   "cell_type": "markdown",
   "metadata": {},
   "source": [
    "The goal of this is to get a script that can\n",
    "- quickly export all the highlights from a PDF\n",
    "- convert them into text easy to paste into Roam\n"
   ]
  },
  {
   "cell_type": "markdown",
   "metadata": {},
   "source": [
    "## Exporting\n",
    "I'll follow [this tutorial](https://medium.com/@vinitvaibhav9/extracting-pdf-highlights-using-python-9512af43a6d)"
   ]
  },
  {
   "cell_type": "code",
   "execution_count": 1,
   "metadata": {},
   "outputs": [],
   "source": [
    "import fitz"
   ]
  },
  {
   "cell_type": "code",
   "execution_count": 439,
   "metadata": {},
   "outputs": [],
   "source": [
    "def find_highlights(page):\n",
    "    # list to store the co-ordinates of all highlights\n",
    "    highlights = []\n",
    "    #colors = []\n",
    "    # loop till we have highlight annotation in the page\n",
    "    annot = page.firstAnnot\n",
    "    while annot:\n",
    "        if annot.type[0] == 8:\n",
    "            #colors.append(annot.colors)\n",
    "            all_coordinates = annot.vertices\n",
    "            if len(all_coordinates) == 4:\n",
    "                highlight_coord = fitz.Quad(all_coordinates).rect\n",
    "                highlights.append([highlight_coord, annot.colors])\n",
    "            else:\n",
    "                all_coordinates = [all_coordinates[x:x+4] for x in range(0, len(all_coordinates), 4)]\n",
    "                for i in range(0,len(all_coordinates)):\n",
    "                    coord = fitz.Quad(all_coordinates[i]).rect\n",
    "                    highlights.append([coord, annot.colors])\n",
    "        annot = annot.next\n",
    "    return highlights#, colors"
   ]
  },
  {
   "cell_type": "code",
   "execution_count": 440,
   "metadata": {},
   "outputs": [],
   "source": [
    "def ink2highlight(page):\n",
    "    annot = page.firstAnnot\n",
    "    h = []\n",
    "    while annot:\n",
    "        if annot.type[0] == 15:\n",
    "            rect = fitz.Rect(annot.rect.x0, annot.rect.y0+annot.rect.height/3, annot.rect.x1, annot.rect.y1-annot.rect.height/3) #+annot.rect.height/3\n",
    "            #print(annot.colors)\n",
    "            h.append([rect, annot.colors])\n",
    "            page.delete_annot(annot)\n",
    "        annot = annot.next\n",
    "    for r, c in h:\n",
    "        x = page.add_highlight_annot(r)\n",
    "        x.set_colors(colors=c)\n",
    "        x.update()\n",
    "    return page"
   ]
  },
  {
   "cell_type": "code",
   "execution_count": 441,
   "metadata": {},
   "outputs": [],
   "source": [
    "def remove_overlaps(h):\n",
    "    hl = []\n",
    "    k = 0\n",
    "    for i in h:\n",
    "        #print(\"Checking intersections with rectangle:\", i)\n",
    "        for j in h:\n",
    "            #print(\"Possible rectangle:\", j)\n",
    "            if i.intersects(j) and i != j:\n",
    "                i.include_rect(j)\n",
    "                h.pop(h.index(j))\n",
    "                #print(j, i)\n",
    "                k = 1\n",
    "            #print(\"Current list:\", h)\n",
    "        hl.append(i)\n",
    "    #print(\"Final list:\", hl)\n",
    "    return hl\n"
   ]
  },
  {
   "cell_type": "code",
   "execution_count": 442,
   "metadata": {},
   "outputs": [],
   "source": [
    "def intersects(hl):\n",
    "    for i in hl:\n",
    "        for j in hl:\n",
    "            if i.intersects(j) and i != j:\n",
    "               return True\n",
    "    return False"
   ]
  },
  {
   "cell_type": "code",
   "execution_count": 455,
   "metadata": {},
   "outputs": [],
   "source": [
    "def intersects_percentage(r1, r2):\n",
    "    r1a = r1.get_area()\n",
    "    r1.intersect(r2)\n",
    "    per1 = r1.get_area()/r1a\n",
    "    per2 = r1.get_area()/r2.get_area()\n",
    "    return per1, per2"
   ]
  },
  {
   "cell_type": "code",
   "execution_count": 463,
   "metadata": {},
   "outputs": [],
   "source": [
    "def get_highlighted_text(page, highlights):\n",
    "    all_words = page.get_text_words()\n",
    "    # List to store all the highlighted texts\n",
    "    highlight_text = []\n",
    "    for r,c in highlights:\n",
    "        sentence = [w[4] for w in all_words if intersects_percentage(fitz.Rect(w[0:4]),r)[0] > 0.1]\n",
    "        if c['stroke'] == (0.0, 1.0, 1.0):\n",
    "            highlight_text.append(\" \".join(sentence) + \" #hmm\")\n",
    "        else:\n",
    "            highlight_text.append(\" \".join(sentence))\n",
    "    return highlight_text"
   ]
  },
  {
   "cell_type": "code",
   "execution_count": 468,
   "metadata": {},
   "outputs": [
    {
     "name": "stdout",
     "output_type": "stream",
     "text": [
      "Introduce filename:Sanders2008.pdf\n",
      "\n",
      "Over the past six decades, designers have been moving increasingly closer to the future users of what they design. Especially in areas where technologies mature, mature, and the next new feature is no longer of value, manufacturing companies have been increasingly open to approaches that deﬁne the product based on what people need. The participatory approach (i.e. ‘user as partner’) has been led by Northern Europeans. (discussed in more depth in #hmm Sanders 2006a). #hmm\n",
      "The authors take co-creation to refer to any act of collective creativity, i.e. creativity that is shared by two or more people. By co-design we indicate collective creativity as it is applied across the whole span of a design process, as was intended by the name of this journal. Thus, co-design is a speciﬁc instance of co-creation. We use co-design in a broader sense to refer to the creativity of designers and people not trained in design working together in the design development process. growing emphasis on the front end.\n",
      "The front end is often referred to as ‘fuzzy’ because of the ambiguity and chaotic nature that characterise it. not known whether the deliverable of the design process will be a product, a service, an interface, a building, etc. The fuzzy front end is followed by the traditional design process where the resulting ideas for product, service, interface, etc., are etc., are developed developed ﬁrst into concepts, and then into prototypes that are reﬁned on the basis of the feedback of future users. going under the name participatory design. In Norway, Sweden and to increase the value of Denmark the Collective Resource Approach was established to increase industrial production by engaging workers in the development of new systems for the workplace. There is a wonderful, but unfortunately out-of-print, book edited by Nigel #hmm Cross and made up of papers that were presented at a conference called Design #hmm Participation, held by the Design Research Society in Manchester, England in September #hmm of 1971. #hmm These harmful side eﬀects can no longer be tolerated and regarded as inevitable if we are to survive the future . . . There is certainly a need for new approaches to design if we are to arrest the escalating problems of the man-made world\n",
      "we could talk not (only) about participation at the moment of decision but about participation at the moment of idea generation . . . It is interesting to note that participation in the design process, is focused more on the exploration and identiﬁcation of presumably positive future opportunities than it is on the identiﬁcation and amelioration of adverse consequences. known proponents of co-design originate from business or marketing and not from design that the best The Future of Competition: Co-Creating Unique Value with Customers. #hmm The meaning of value and the process of value creation are rapidly shifting from a product- and ﬁrm-centric view to personalized consumer experiences. Informed, networked, empowered and ﬁrm-centric view to personalized consumer experiences. Informed, networked, empowered and active consumers are increasingly co-creating value with the ﬁrm. The von Hippel and Seybold approaches to co-creation limit participation in the design process to an elite and very carefully selected group of people. Lead users are people who have already explored innovative ways to get things done and who are willing to share their approaches with others. whether these elite groups of people can represent and speak for the majority\n",
      "In our experience as researchers and practitioners we have seen that co-creation practiced at the early front end of the design development process can have an impact with positive, long-range consequences. This transformation is from an unsustainable way of life to one ‘in which both science and spirituality reconﬁgure our most basic understandings of human consciousness and how to live harmoniously in a healthy and sustainable ecosphere.’ (Institute of Noetic Sciences 2007) co-creative paradigm is being espoused by those exploring the intersection of science and spirituality as one of the primary means for transformation of the dominant worldview that is taking place today. This Secondly, participatory thinking is antithetical to consumerism, in which personal #hmm happiness is equated with purchasing and consuming material goods. #hmm In our studies over the last 10 #hmm years we encounter that, increasingly, people want a balance between passive consumption #hmm and the ability to actively choose what kinds of more creative experiences to engage in and #hmm how (see Sanders 2006b). #hmm\n",
      "The move of companies to pay attention to ‘user experience’ is in part motivated by stagnation of the technology push. to ‘user Transformation design, the It uses the design process as a means to enable a wide range of disciplines and stakeholders to collaborate’ (Burns A snapshot in time (see Table 1) shows that we are moving from the design of categories of ‘products’ to designing for people’s purposes.\n",
      "\n",
      "In generating insights, the researcher supports the ‘expert of his/her experience’ by providing tools for ideation and expression. the person who will eventually be served through the design process is given the position of ‘expert of his/her experience’, The designer and the researcher collaborate on the tools for ideation because design skills are very important in the development of the tools. (more on the changing #hmm roles of the key players in the co-design process is discussed in Sleeswijk Visser et al. 2005). #hmm Table 2. Four levels of creativity. Level Type Motivated by Purpose Example 4 Creating Inspiration ‘express my creativity’ Dreaming up a new dish 3 Making Asserting my ‘make with my Cooking with a recipe 2 Adapting Appropriation ‘make things my own’ Embellishing a ready-made meal 1 Doing Productivity ‘getting something done’ Organising my herbs and spices People with a high level of passion and knowledge in a certain domain who are invited to participate directly in the design process can certainly become co-designers. i.e. the same person is and wants to be a consumer in some situations and wants to be a designer in other situations. In relation to the use of products, Fischer advocates the emergence of adaptive design, in which the user could scale his involvement with a product from passive consumption to expert adapting.\n",
      "In co-designing, the researcher (who may be a designer) takes on the role\n",
      "of a facilitator. we need to learn how to oﬀer relevant experiences to facilitate people’s expressions of creativity at all levels. means leading, guiding, and providing scaﬀolds, as well as clean slates to encourage people at all levels of creativity. . lead people who are on the ‘doing’ level of creativity, . guide those who are at the ‘adapting’ level, . provide scaﬀolds that support and serve peoples’ need for creative expression at the ‘making’ level, and . oﬀer a clean slate for those at the ‘creating’ level.\n",
      "We will be using generative design thinking to address change in the future. The use of generative design tools lets one look forward into the possible futures of the people who will be living, working and playing there. Designers in the future will make the tools for non-designers to use to express themselves creatively.\n",
      "1). Or perhaps the spinout from the blur will result in professionals who have special expertise in certain stages of the process, such as in the fuzzy front end. Future co-designing will be a close collaboration between all the stakeholders in the design development process together with a variety of professionals having hybrid design/research skills. In the future, the new co-design languages that support and facilitate the many varieties of cross-cultural communication will become highly valued. Is it best for students to learn the traditional design process ﬁrst and then move to co-designing? Or is it better to start with co-designing? For . When should education about co-creation and co-designing begin? What abilities, skills, mindsets and worldviews will they need?\n",
      "What will be the impact of enabling and supporting multiple simultaneous levels of #hmm collective creativity? How will that inﬂuence design cultures? What inﬂuence will that #hmm have on the world cultures? #hmm The human-centred design research #hmm landscape will become a virtual realm, growing and changing in response to the zeitgeist. #hmm\n",
      "\n"
     ]
    }
   ],
   "source": [
    "file = input(\"Introduce filename:\")\n",
    "doc = fitz.open(file)\n",
    "#all_highlights = []\n",
    "\n",
    "for i in range(len(doc)):\n",
    "    page = doc[i]\n",
    "    page = ink2highlight(page)\n",
    "    doc.save(\"highlights\" + file)\n",
    "\n",
    "    highlights = find_highlights(page)\n",
    "    highlight_text = get_highlighted_text(page, highlights)\n",
    "    highlight_text = \" \".join(highlight_text)\n",
    "    print(highlight_text)\n",
    "    #all_highlights.append(highlight_text)\n",
    "\n",
    "    "
   ]
  }
 ],
 "metadata": {
  "kernelspec": {
   "display_name": "Python 3",
   "language": "python",
   "name": "python3"
  },
  "language_info": {
   "codemirror_mode": {
    "name": "ipython",
    "version": 3
   },
   "file_extension": ".py",
   "mimetype": "text/x-python",
   "name": "python",
   "nbconvert_exporter": "python",
   "pygments_lexer": "ipython3",
   "version": "3.8.3"
  }
 },
 "nbformat": 4,
 "nbformat_minor": 4
}
